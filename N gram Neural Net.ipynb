{
 "cells": [
  {
   "cell_type": "code",
   "execution_count": 1,
   "metadata": {},
   "outputs": [],
   "source": [
    "import torch\n",
    "import numpy as np\n",
    "import random\n",
    "import torch.nn.functional as F\n",
    "import matplotlib.pyplot as plt\n",
    "%matplotlib inline"
   ]
  },
  {
   "cell_type": "code",
   "execution_count": 2,
   "metadata": {},
   "outputs": [],
   "source": [
    "names = open('names.txt', 'r').read().splitlines()"
   ]
  },
  {
   "cell_type": "code",
   "execution_count": 3,
   "metadata": {},
   "outputs": [],
   "source": [
    "names=[x.lower() for x in names]"
   ]
  },
  {
   "cell_type": "code",
   "execution_count": 4,
   "metadata": {},
   "outputs": [
    {
     "data": {
      "text/plain": [
       "['aamir',\n",
       " 'aaron',\n",
       " 'abbey',\n",
       " 'abbie',\n",
       " 'abbot',\n",
       " 'abbott',\n",
       " 'abby',\n",
       " 'abdel',\n",
       " 'abdul',\n",
       " 'abdulkarim']"
      ]
     },
     "execution_count": 4,
     "metadata": {},
     "output_type": "execute_result"
    }
   ],
   "source": [
    "names[:10]"
   ]
  },
  {
   "cell_type": "code",
   "execution_count": 5,
   "metadata": {},
   "outputs": [
    {
     "data": {
      "text/plain": [
       "6.032729103726083"
      ]
     },
     "execution_count": 5,
     "metadata": {},
     "output_type": "execute_result"
    }
   ],
   "source": [
    "sums=0\n",
    "for i in names:\n",
    "    sums+=len(i)\n",
    "sums/len(names)\n",
    "#so avg len of all names is 6 "
   ]
  },
  {
   "cell_type": "code",
   "execution_count": 6,
   "metadata": {},
   "outputs": [],
   "source": [
    "chars = sorted(list(set(''.join(names))))"
   ]
  },
  {
   "cell_type": "code",
   "execution_count": 7,
   "metadata": {},
   "outputs": [
    {
     "name": "stdout",
     "output_type": "stream",
     "text": [
      "{' ': 1, \"'\": 2, '-': 3, 'a': 4, 'b': 5, 'c': 6, 'd': 7, 'e': 8, 'f': 9, 'g': 10, 'h': 11, 'i': 12, 'j': 13, 'k': 14, 'l': 15, 'm': 16, 'n': 17, 'o': 18, 'p': 19, 'q': 20, 'r': 21, 's': 22, 't': 23, 'u': 24, 'v': 25, 'w': 26, 'x': 27, 'y': 28, 'z': 29, '.': 0}\n",
      "30\n"
     ]
    }
   ],
   "source": [
    "#string to int ,int to string implementation\n",
    "stoi = {s:i+1 for i,s in enumerate(chars)}\n",
    "stoi['.'] = 0\n",
    "itos = {i:s for s,i in stoi.items()}\n",
    "print(stoi)\n",
    "print(len(itos))"
   ]
  },
  {
   "cell_type": "code",
   "execution_count": 8,
   "metadata": {},
   "outputs": [],
   "source": [
    "context=3 #fom past how many char you want to predict next"
   ]
  },
  {
   "cell_type": "code",
   "execution_count": 9,
   "metadata": {},
   "outputs": [],
   "source": [
    "def build_dataset(names):\n",
    "    # create the dataset\n",
    "    xs, ys = [], []\n",
    "    for name in names:\n",
    "      li=[]\n",
    "      names='.'*context+name+'.'\n",
    "      for i in names:\n",
    "        li.append(stoi[i])\n",
    "      con=li[:context]\n",
    "      for i in range(len(name)+1):\n",
    "            xs.append(con)\n",
    "            ys.append(li[context+i])\n",
    "            con=li[i+1:i+1+context]\n",
    "    xs = torch.tensor(xs)\n",
    "    ys = torch.tensor(ys)\n",
    "    return xs,ys"
   ]
  },
  {
   "cell_type": "code",
   "execution_count": 10,
   "metadata": {},
   "outputs": [],
   "source": [
    "#spliting data set to train,validation,test\n",
    "n1=int(len(names)*0.8)\n",
    "n2=int(len(names)*0.9)\n",
    "random.shuffle(names)\n",
    "x_train,y_train =build_dataset(names[:n1])\n",
    "x_vali,y_vali =build_dataset(names[n1:n2])\n",
    "x_test,y_test =build_dataset(names[n2:])"
   ]
  },
  {
   "cell_type": "code",
   "execution_count": 11,
   "metadata": {},
   "outputs": [
    {
     "name": "stdout",
     "output_type": "stream",
     "text": [
      "[0][0][0][6]\n",
      "[0][0][6][11]\n",
      "[0][6][11][21]\n",
      "[6][11][21][12]\n",
      "[11][21][12][22]\n",
      "[21][12][22][23]\n",
      "[12][22][23][4]\n",
      "[22][23][4][5]\n",
      "[23][4][5][8]\n",
      "[4][5][8][15]\n"
     ]
    }
   ],
   "source": [
    "#checking\n",
    "for i in range(10):\n",
    "    for j in range(len(x_train[i])):\n",
    "           print([x_train[i][j].item()],end='')\n",
    "    print([y_train[i].item()])"
   ]
  },
  {
   "cell_type": "code",
   "execution_count": 12,
   "metadata": {},
   "outputs": [
    {
     "data": {
      "text/plain": [
       "torch.Size([44621, 3])"
      ]
     },
     "execution_count": 12,
     "metadata": {},
     "output_type": "execute_result"
    }
   ],
   "source": [
    "x_train.shape"
   ]
  },
  {
   "cell_type": "code",
   "execution_count": 13,
   "metadata": {},
   "outputs": [],
   "source": [
    "#init NN\n",
    "#input is context*30 matrix , output of NN should be 30*1 prob scores\n",
    "#using kaiming initilization\n",
    "W1 = (torch.randn((context,100),dtype=torch.float32)*(1.66/context**(0.5))).requires_grad_()\n",
    "W2 = (torch.randn((100,30),dtype=torch.float32)).requires_grad_()\n",
    "b1=((torch.ones(100,dtype=torch.float32))*0.01).requires_grad_()\n",
    "b2=((torch.ones(30,dtype=torch.float32))*0.01).requires_grad_()\n",
    "parameters = [W1, b1, W2, b2]"
   ]
  },
  {
   "cell_type": "code",
   "execution_count": 14,
   "metadata": {},
   "outputs": [
    {
     "data": {
      "text/plain": [
       "3430"
      ]
     },
     "execution_count": 14,
     "metadata": {},
     "output_type": "execute_result"
    }
   ],
   "source": [
    "sum(p.nelement() for p in parameters) # number of parameters in total"
   ]
  },
  {
   "cell_type": "code",
   "execution_count": 15,
   "metadata": {},
   "outputs": [
    {
     "data": {
      "text/plain": [
       "torch.Size([44621])"
      ]
     },
     "execution_count": 15,
     "metadata": {},
     "output_type": "execute_result"
    }
   ],
   "source": [
    "y_train.shape"
   ]
  },
  {
   "cell_type": "code",
   "execution_count": 16,
   "metadata": {},
   "outputs": [
    {
     "data": {
      "text/plain": [
       "torch.Size([44621, 3])"
      ]
     },
     "execution_count": 16,
     "metadata": {},
     "output_type": "execute_result"
    }
   ],
   "source": [
    "x_tr=x_train.float()\n",
    "x_tr.shape"
   ]
  },
  {
   "cell_type": "code",
   "execution_count": 17,
   "metadata": {},
   "outputs": [],
   "source": [
    "for p in parameters:\n",
    "    p.requires_grad = True"
   ]
  },
  {
   "cell_type": "code",
   "execution_count": 18,
   "metadata": {},
   "outputs": [],
   "source": [
    "step=[]\n",
    "lossi=[]\n",
    "lr=0.001\n",
    "epochs=200000\n",
    "alpha=0.1"
   ]
  },
  {
   "cell_type": "code",
   "execution_count": 19,
   "metadata": {},
   "outputs": [
    {
     "name": "stdout",
     "output_type": "stream",
     "text": [
      "Loss at iteration 0: 18.165739059448242\n",
      "Loss at iteration 10000: 2.60614275932312\n",
      "Loss at iteration 20000: 2.7658557891845703\n",
      "Loss at iteration 30000: 2.7102296352386475\n",
      "Loss at iteration 40000: 2.494450569152832\n",
      "Loss at iteration 50000: 2.506091356277466\n",
      "Loss at iteration 60000: 2.545497179031372\n",
      "Loss at iteration 70000: 2.5056400299072266\n",
      "Loss at iteration 80000: 2.5473663806915283\n",
      "Loss at iteration 90000: 2.4196131229400635\n",
      "Loss at iteration 100000: 2.702176570892334\n",
      "Loss at iteration 110000: 2.552915334701538\n",
      "Loss at iteration 120000: 2.462733030319214\n",
      "Loss at iteration 130000: 2.452136754989624\n",
      "Loss at iteration 140000: 2.4540791511535645\n",
      "Loss at iteration 150000: 2.467728853225708\n",
      "Loss at iteration 160000: 2.4484195709228516\n",
      "Loss at iteration 170000: 2.443580389022827\n",
      "Loss at iteration 180000: 2.4585494995117188\n",
      "Loss at iteration 190000: 2.514302968978882\n"
     ]
    }
   ],
   "source": [
    "for k in range(epochs):\n",
    "    ix = torch.randint(0,x_tr.shape[0], (256,)) # mini batch sample each time randomly of size 128(may result in some noice)\n",
    "    #forward pass\n",
    "    h = torch.tanh(x_tr[ix] @ W1 + b1) \n",
    "    logits = h @ W2 + b2 \n",
    "    counts = logits.exp()\n",
    "    prob = counts / counts.sum(1, keepdims=True)\n",
    "    loss = -prob[torch.arange(len(ix)), y_train[ix]].log().mean() + 0.1*(W1**2).mean()  #adding L2 regulalizer\n",
    "   \n",
    "    \n",
    "    #backward pass \n",
    "    for p in parameters:\n",
    "        p.grad=None\n",
    "    loss.backward()\n",
    "    \n",
    "    \n",
    "    #update parameters\n",
    "    if(k<100000):\n",
    "        lr=0.1\n",
    "    else:\n",
    "        0.01\n",
    "    for p in parameters:\n",
    "        p.data-=lr*p.grad    #gradient descent update each time\n",
    "       \n",
    "    #for stats\n",
    "    if(k%10000==0):\n",
    "        print(\"Loss at iteration {}: {}\".format(k, loss))\n",
    "        lossi.append(loss.item())\n",
    "        step.append(k)\n",
    "    \n"
   ]
  },
  {
   "cell_type": "code",
   "execution_count": 20,
   "metadata": {},
   "outputs": [
    {
     "data": {
      "text/plain": [
       "[<matplotlib.lines.Line2D at 0x26de1cc9da0>]"
      ]
     },
     "execution_count": 20,
     "metadata": {},
     "output_type": "execute_result"
    },
    {
     "data": {
      "image/png": "[encoded data removed]",
      "text/plain": [
       "<Figure size 432x288 with 1 Axes>"
      ]
     },
     "metadata": {},
     "output_type": "display_data"
    }
   ],
   "source": [
    "plt.plot(step,lossi)"
   ]
  },
  {
   "cell_type": "code",
   "execution_count": 35,
   "metadata": {},
   "outputs": [
    {
     "name": "stdout",
     "output_type": "stream",
     "text": [
      "nerle.\n",
      "viannier.\n",
      "caleie.\n",
      "dohciinilyeteda.\n",
      "etona.\n",
      "habyhls.\n",
      "risfce.\n",
      "revianyoiedabilolsthie.\n",
      "adnbr.\n",
      "mfr.\n"
     ]
    }
   ],
   "source": [
    "#generate names from model\n",
    "for i in range(10):\n",
    "    res=[]\n",
    "    con=[0]*context\n",
    "    while True:\n",
    "        h = torch.tanh(torch.tensor(con).float() @ W1 + b1) \n",
    "        logits = h @ W2 + b2 \n",
    "        counts = logits.exp()\n",
    "        prob = counts / counts.sum(-1, keepdims=True)\n",
    "#         print(prob)\n",
    "        ix = torch.multinomial(prob, num_samples=1).item()\n",
    "        con=con[1:]\n",
    "        con.append(ix)\n",
    "        res.append(ix)\n",
    "        if(ix==0):\n",
    "            break\n",
    "    print(''.join(itos[i] for i in res))\n",
    "        "
   ]
  },
  {
   "cell_type": "code",
   "execution_count": 31,
   "metadata": {},
   "outputs": [],
   "source": [
    "# TODO\n",
    "# use batch normalization\n",
    "# use validation set to set correct alpha and other hyper parameters"
   ]
  },
  {
   "cell_type": "code",
   "execution_count": null,
   "metadata": {},
   "outputs": [],
   "source": []
  }
 ],
 "metadata": {
  "kernelspec": {
   "display_name": "Python 3",
   "language": "python",
   "name": "python3"
  },
  "language_info": {
   "codemirror_mode": {
    "name": "ipython",
    "version": 3
   },
   "file_extension": ".py",
   "mimetype": "text/x-python",
   "name": "python",
   "nbconvert_exporter": "python",
   "pygments_lexer": "ipython3",
   "version": "3.6.5"
  }
 },
 "nbformat": 4,
 "nbformat_minor": 2
}
